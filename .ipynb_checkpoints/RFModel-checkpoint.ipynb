{
 "cells": [
  {
   "cell_type": "code",
   "execution_count": 1,
   "id": "750bc051-f7b4-437e-bc76-a38081c0e9c1",
   "metadata": {},
   "outputs": [],
   "source": [
    "from pyspark.ml.feature import MinMaxScaler, StringIndexer, VectorAssembler\n",
    "from pyspark.ml.evaluation import MulticlassClassificationEvaluator\n",
    "from pyspark.sql import SparkSession\n",
    "from pyspark.sql.types import StructType, StructField, LongType, StringType, DoubleType\n",
    "from pyspark.ml.classification import RandomForestClassifier\n",
    "from pyspark.sql.functions import col\n"
   ]
  },
  {
   "cell_type": "code",
   "execution_count": 2,
   "id": "89a4efd0-6dcb-48b9-965e-980d1bda367c",
   "metadata": {},
   "outputs": [],
   "source": [
    "# Create the SparkSession\n",
    "spark = SparkSession.builder.getOrCreate()\n",
    "spark.conf.set(\"spark.sql.debug.maxToStringFields\", 100)"
   ]
  },
  {
   "cell_type": "code",
   "execution_count": 3,
   "id": "4c4b0e19-fbd6-44bc-bf0a-1892f48c3482",
   "metadata": {},
   "outputs": [],
   "source": [
    "# Define the schema\n",
    "schema = StructType([\n",
    "    StructField(\"state\", StringType(), True),\n",
    "    StructField(\"account_length\", LongType(), True),\n",
    "    StructField(\"area_code\", LongType(), True),\n",
    "    StructField(\"international_plan\", StringType(), True),\n",
    "    StructField(\"voice_mail_plan\", StringType(), True),\n",
    "    StructField(\"number_vmail_messages\", LongType(), True),\n",
    "    StructField(\"total_day_minutes\", DoubleType(), True),\n",
    "    StructField(\"total_day_calls\", LongType(), True),\n",
    "    StructField(\"total_day_charge\", DoubleType(), True),\n",
    "    StructField(\"total_eve_minutes\", DoubleType(), True),\n",
    "    StructField(\"total_eve_calls\", LongType(), True),\n",
    "    StructField(\"total_eve_charge\", DoubleType(), True),\n",
    "    StructField(\"total_night_minutes\", DoubleType(), True),\n",
    "    StructField(\"total_night_calls\", LongType(), True),\n",
    "    StructField(\"total_night_charge\", DoubleType(), True),\n",
    "    StructField(\"total_intl_minutes\", DoubleType(), True),\n",
    "    StructField(\"total_intl_calls\", LongType(), True),\n",
    "    StructField(\"total_intl_charge\", DoubleType(), True),\n",
    "    StructField(\"customer_service_calls\", LongType(), True),\n",
    "    StructField(\"churn\", StringType(), True)\n",
    "])"
   ]
  },
  {
   "cell_type": "code",
   "execution_count": 4,
   "id": "260e83cb-1424-4835-9716-4a06c99b3ca9",
   "metadata": {},
   "outputs": [],
   "source": [
    "# Load the data\n",
    "data_path = \"churn-bigml-80.csv\"\n",
    "df = spark.read.format('csv').option('header', True).schema(schema).load(data_path)"
   ]
  },
  {
   "cell_type": "code",
   "execution_count": 5,
   "id": "c6106079-d82f-460c-b523-18c506c78e03",
   "metadata": {},
   "outputs": [
    {
     "name": "stdout",
     "output_type": "stream",
     "text": [
      "state: 0\n",
      "account_length: 0\n",
      "area_code: 0\n",
      "international_plan: 0\n",
      "voice_mail_plan: 0\n",
      "number_vmail_messages: 0\n",
      "total_day_minutes: 0\n",
      "total_day_calls: 0\n",
      "total_day_charge: 0\n",
      "total_eve_minutes: 0\n",
      "total_eve_calls: 0\n",
      "total_eve_charge: 0\n",
      "total_night_minutes: 0\n",
      "total_night_calls: 0\n",
      "total_night_charge: 0\n",
      "total_intl_minutes: 0\n",
      "total_intl_calls: 0\n",
      "total_intl_charge: 0\n",
      "customer_service_calls: 0\n",
      "churn: 0\n"
     ]
    }
   ],
   "source": [
    "# Handle missing values\n",
    "null_counts = df.select([col(c).isNull().cast('int').alias(c) for c in df.columns]) \\\n",
    "                .groupBy().sum().collect()[0]\n",
    "\n",
    "# Display the counts of null values per column\n",
    "for col_name, null_count in zip(df.columns, null_counts):\n",
    "    print(f\"{col_name}: {null_count}\")"
   ]
  },
  {
   "cell_type": "code",
   "execution_count": 6,
   "id": "2b27f8cb-5755-4942-95cf-e5fb3f7149b4",
   "metadata": {},
   "outputs": [
    {
     "name": "stdout",
     "output_type": "stream",
     "text": [
      "+-----+--------------+---------+------------------+---------------+---------------------+-----------------+---------------+----------------+-----------------+---------------+----------------+-------------------+-----------------+------------------+------------------+----------------+-----------------+----------------------+-----+-----+\n",
      "|state|account_length|area_code|international_plan|voice_mail_plan|number_vmail_messages|total_day_minutes|total_day_calls|total_day_charge|total_eve_minutes|total_eve_calls|total_eve_charge|total_night_minutes|total_night_calls|total_night_charge|total_intl_minutes|total_intl_calls|total_intl_charge|customer_service_calls|churn|count|\n",
      "+-----+--------------+---------+------------------+---------------+---------------------+-----------------+---------------+----------------+-----------------+---------------+----------------+-------------------+-----------------+------------------+------------------+----------------+-----------------+----------------------+-----+-----+\n",
      "+-----+--------------+---------+------------------+---------------+---------------------+-----------------+---------------+----------------+-----------------+---------------+----------------+-------------------+-----------------+------------------+------------------+----------------+-----------------+----------------------+-----+-----+\n",
      "\n"
     ]
    }
   ],
   "source": [
    "# Drop rows with missing values\n",
    "df = df.dropna()\n",
    "\n",
    "# Handle duplicate values\n",
    "duplicate_count = df.groupBy(df.columns).count().where('count > 1')\n",
    "duplicate_count.show()\n",
    "\n",
    "# Drop duplicates if there are any\n",
    "df = df.dropDuplicates()"
   ]
  },
  {
   "cell_type": "code",
   "execution_count": 7,
   "id": "5dc19c17-a861-4d9a-80c1-430d3354dad4",
   "metadata": {},
   "outputs": [],
   "source": [
    "# Rename columns to avoid spaces and convert to lower case\n",
    "df = df.toDF(*(c.lower().replace(' ', '_') for c in df.columns))"
   ]
  },
  {
   "cell_type": "code",
   "execution_count": 8,
   "id": "1d29623f-5a0c-411a-9f2a-fe8722450490",
   "metadata": {},
   "outputs": [],
   "source": [
    "# Split the data into training and test sets\n",
    "train_data, test_data = df.randomSplit([0.8, 0.2], seed=42)\n",
    "\n",
    "# Define transformers\n",
    "# StringIndexer is used to convert categorical string columns into numerical indices.\n",
    "indexer = StringIndexer(inputCols=['state', 'international_plan', 'voice_mail_plan', 'churn'],\n",
    "                        outputCols=['state_indexed', 'international_plan_indexed', 'voice_mail_plan_indexed', 'churn_indexed'])\n",
    "\n",
    "# VectorAssembler is used to combine multiple feature columns into a single vector column.\n",
    "inputs = ['account_length', 'area_code', 'number_vmail_messages', 'total_day_minutes', 'total_day_calls', 'total_day_charge', 'total_eve_minutes', 'total_eve_calls', 'total_eve_charge', 'total_night_minutes', 'total_night_calls', 'total_night_charge', 'total_intl_minutes', 'total_intl_calls', 'total_intl_charge', 'customer_service_calls']\n",
    "assembler1 = VectorAssembler(inputCols=inputs, outputCol=\"features_temp\")\n",
    "\n",
    "# MinMaxScaler is used to scale the features to a range (typically [0, 1]).\n",
    "scaler = MinMaxScaler(inputCol=\"features_temp\", outputCol=\"features_scaled\")\n",
    "\n",
    "# Combine indexed categorical features and scaled numerical features into a final feature vector.\n",
    "assembler2 = VectorAssembler(inputCols=['state_indexed', 'international_plan_indexed', 'voice_mail_plan_indexed', 'features_scaled'], outputCol=\"features\")"
   ]
  },
  {
   "cell_type": "code",
   "execution_count": 9,
   "id": "639edbeb-e8f8-4bb9-894b-439dbaa33e7e",
   "metadata": {},
   "outputs": [
    {
     "name": "stdout",
     "output_type": "stream",
     "text": [
      "+--------------------------------------------------------------------------------------------------------------------------------------------------------------------------------------------------------------------------------------------------------------------------------------------------------------------+-------------+\n",
      "|features                                                                                                                                                                                                                                                                                                            |churn_indexed|\n",
      "+--------------------------------------------------------------------------------------------------------------------------------------------------------------------------------------------------------------------------------------------------------------------------------------------------------------------+-------------+\n",
      "|[42.0,0.0,0.0,0.17857142857142855,0.06862745098039216,0.0,0.45410490307867735,0.4177215189873418,0.4540576794097921,0.34616442122628543,0.4716981132075472,0.34616628922678744,0.6211215485340165,0.3233082706766917,0.6215189873417721,0.555,0.25,0.5555555555555556,0.1111111111111111]                           |0.0          |\n",
      "|[42.0,0.0,1.0,0.20982142857142855,0.06862745098039216,0.74,0.6034777651083238,0.7278481012658228,0.6034540576794098,0.43964806158922193,0.5283018867924528,0.43966353930766744,0.2857956162823797,0.3533834586466165,0.2854430379746836,0.61,0.05,0.6092592592592593,0.1111111111111111]                            |0.0          |\n",
      "|[42.0,1.0,1.0,0.2232142857142857,1.0,0.24,0.387115165336374,0.37974683544303794,0.3871562709590879,0.5515534781413253,0.8427672955974843,0.5516014234875445,0.4232849416453174,0.48872180451127817,0.4234177215189874,0.6150000000000001,0.35000000000000003,0.6148148148148147,0.2222222222222222]                 |0.0          |\n",
      "|[42.0,0.0,0.0,0.22767857142857142,0.0,0.0,0.6185860889395667,0.6582278481012658,0.6185446009389672,0.4187517184492714,0.5220125786163522,0.4189582659333549,0.2578992314261315,0.5714285714285714,0.2575949367088608,0.5900000000000001,0.2,0.5907407407407407,0.2222222222222222]                                  |0.0          |\n",
      "|[42.0,0.0,1.0,0.22767857142857142,0.06862745098039216,0.48,0.4871721778791334,0.44936708860759494,0.4870892018779343,0.5537530932086885,0.5031446540880503,0.55386606276286,0.32820950754341016,0.6842105263157894,0.32784810126582287,0.205,0.25,0.20555555555555557,0.2222222222222222]                           |0.0          |\n",
      "|[42.0,0.0,0.0,0.2544642857142857,1.0,0.0,0.37599771949828964,0.6075949367088608,0.3759221998658619,0.46081935661259277,0.6729559748427674,0.4610158524749272,0.46171363506974095,0.5488721804511278,0.4620253164556962,0.735,0.25,0.7351851851851852,0.3333333333333333]                                            |0.0          |\n",
      "|[42.0,0.0,0.0,0.2589285714285714,1.0,0.0,0.5202394526795895,0.6582278481012658,0.5202883970489605,0.5628265053615616,0.5974842767295597,0.5629246198641216,0.5300313122687161,0.5037593984962405,0.530379746835443,0.5650000000000001,0.4,0.5648148148148148,0.4444444444444444]                                    |0.0          |\n",
      "|[42.0,0.0,1.0,0.26785714285714285,0.06862745098039216,0.3,0.7194982896237172,0.6708860759493671,0.7194835680751174,0.516359637063514,0.4339622641509434,0.5163377547719185,0.6145744378024481,0.7819548872180451,0.6145569620253164,0.5,0.15000000000000002,0.5,0.2222222222222222]                                 |0.0          |\n",
      "|[42.0,0.0,0.0,0.3125,1.0,0.0,0.5273660205245154,0.5316455696202531,0.5273306505700872,0.6392631289524333,0.8113207547169812,0.6392753154318991,0.4195844007970395,0.3684210526315789,0.419620253164557,0.7450000000000001,0.2,0.7444444444444444,0.3333333333333333]                                                |0.0          |\n",
      "|[42.0,0.0,0.0,0.32589285714285715,0.06862745098039216,0.0,0.7477194982896238,0.7215189873417721,0.7476525821596245,0.5468792961231784,0.6037735849056605,0.5470721449369136,0.3478508397381156,0.42857142857142855,0.34810126582278483,0.33,0.25,0.3296296296296296,0.3333333333333333]                             |0.0          |\n",
      "|[42.0,0.0,0.0,0.34375,0.0,0.0,0.6416761687571265,0.4240506329113924,0.6416834339369551,0.5477041517734396,0.7987421383647799,0.5477191847298609,0.3751779106177057,0.518796992481203,0.3753164556962026,0.73,0.1,0.7296296296296296,0.0]                                                                            |0.0          |\n",
      "|[42.0,0.0,0.0,0.34375,1.0,0.0,0.5424743443557584,0.5569620253164557,0.5424211938296446,0.5347814132526808,0.559748427672956,0.5347783888709156,0.6057500711642472,0.5714285714285714,0.6056962025316455,0.585,0.25,0.5851851851851851,0.2222222222222222]                                                           |0.0          |\n",
      "|[42.0,0.0,0.0,0.3794642857142857,0.0,0.0,0.42987457240592936,0.5379746835443038,0.4299128101945004,0.8135826230409677,0.5534591194968553,0.8136525396311873,0.5792769712496442,0.5338345864661653,0.5791139240506329,0.625,0.05,0.6259259259259259,0.1111111111111111]                                              |0.0          |\n",
      "|[42.0,0.0,1.0,0.42857142857142855,0.06862745098039216,0.48,0.5019954389965793,0.689873417721519,0.5020120724346077,0.4382733021721199,0.5094339622641509,0.43836945972177294,0.6416168516937092,0.45864661654135336,0.6417721518987342,0.605,0.45,0.6055555555555555,0.0]                                           |0.0          |\n",
      "|[42.0,0.0,1.0,0.4419642857142857,0.06862745098039216,0.58,0.6088939566704675,0.8037974683544303,0.6088195841716969,0.48364036293648616,0.5157232704402516,0.4836622452280815,0.4654141759180188,0.5037593984962405,0.4651898734177216,0.44500000000000006,0.15000000000000002,0.4444444444444444,0.1111111111111111]|0.0          |\n",
      "|[42.0,0.0,0.0,0.45535714285714285,1.0,0.0,0.5441847206385405,0.3924050632911392,0.5440979208584843,0.6230409678306297,0.33333333333333337,0.6230993206082175,0.5306006262453743,0.47368421052631576,0.530379746835443,0.39,0.15000000000000002,0.3907407407407407,0.2222222222222222]                               |0.0          |\n",
      "|[42.0,0.0,0.0,0.45982142857142855,0.0,0.0,0.7936145952109463,0.6708860759493671,0.7935949027498324,0.22271102557052516,0.7106918238993711,0.22290520867033323,0.34016510105323083,0.7819548872180451,0.339873417721519,0.49000000000000005,0.25,0.4907407407407407,0.1111111111111111]                              |0.0          |\n",
      "|[42.0,0.0,0.0,0.4776785714285714,0.06862745098039216,0.0,0.2936145952109464,0.8164556962025317,0.29359490274983235,0.6662084135276327,0.6477987421383649,0.6664509867356843,0.3600910902362653,0.42105263157894735,0.36012658227848104,0.395,0.15000000000000002,0.3944444444444444,0.1111111111111111]             |0.0          |\n",
      "|[42.0,0.0,0.0,0.49107142857142855,0.06862745098039216,0.0,0.49258836944127715,0.3670886075949367,0.4926224010731053,0.503436898542755,0.679245283018868,0.5033969589129732,0.3276401935667521,0.5338345864661653,0.32784810126582287,0.395,0.15000000000000002,0.3944444444444444,0.4444444444444444]               |1.0          |\n",
      "|[42.0,0.0,0.0,0.5089285714285714,0.06862745098039216,0.0,0.6003420752565565,0.7594936708860759,0.6002682763246143,0.42095133351663455,0.5283018867924528,0.4208993853121967,0.6219755194990038,0.3458646616541353,0.6221518987341773,0.55,0.25,0.55,0.0]                                                            |0.0          |\n",
      "+--------------------------------------------------------------------------------------------------------------------------------------------------------------------------------------------------------------------------------------------------------------------------------------------------------------------+-------------+\n",
      "only showing top 20 rows\n",
      "\n"
     ]
    }
   ],
   "source": [
    "# Apply transformers to training data\n",
    "train_data = indexer.fit(train_data).transform(train_data)\n",
    "train_data = assembler1.transform(train_data)\n",
    "train_data = scaler.fit(train_data).transform(train_data)\n",
    "train_data = assembler2.transform(train_data)\n",
    "\n",
    "# Apply transformers to test data\n",
    "test_data = indexer.fit(test_data).transform(test_data)\n",
    "test_data = assembler1.transform(test_data)\n",
    "test_data = scaler.fit(test_data).transform(test_data)\n",
    "test_data = assembler2.transform(test_data)\n",
    "\n",
    "# Select features and label\n",
    "train_selected = train_data.select(\"features\", \"churn_indexed\")\n",
    "test_selected = test_data.select(\"features\", \"churn_indexed\")\n",
    "train_selected.show(truncate=False)"
   ]
  },
  {
   "cell_type": "code",
   "execution_count": 10,
   "id": "d655753e-01db-4b8a-b190-2da8519017fa",
   "metadata": {},
   "outputs": [
    {
     "name": "stdout",
     "output_type": "stream",
     "text": [
      "+-------------+----------+\n",
      "|churn_indexed|prediction|\n",
      "+-------------+----------+\n",
      "|          0.0|       0.0|\n",
      "|          0.0|       0.0|\n",
      "|          0.0|       0.0|\n",
      "|          0.0|       0.0|\n",
      "|          0.0|       0.0|\n",
      "|          0.0|       0.0|\n",
      "|          1.0|       1.0|\n",
      "|          0.0|       0.0|\n",
      "|          0.0|       0.0|\n",
      "|          0.0|       0.0|\n",
      "|          0.0|       1.0|\n",
      "|          0.0|       0.0|\n",
      "|          0.0|       0.0|\n",
      "|          0.0|       0.0|\n",
      "|          0.0|       0.0|\n",
      "|          0.0|       0.0|\n",
      "|          0.0|       0.0|\n",
      "|          0.0|       1.0|\n",
      "|          0.0|       0.0|\n",
      "|          0.0|       0.0|\n",
      "+-------------+----------+\n",
      "only showing top 20 rows\n",
      "\n"
     ]
    }
   ],
   "source": [
    "# Create the RandomForestClassifier\n",
    "rf = RandomForestClassifier(featuresCol=\"features\", labelCol=\"churn_indexed\", maxBins=64)\n",
    "\n",
    "# Fit the RandomForestClassifier\n",
    "rf_model = rf.fit(train_selected)\n",
    "\n",
    "# Make predictions on the test set\n",
    "predictions = rf_model.transform(test_selected)\n",
    "predictions.select('churn_indexed', 'prediction').show()"
   ]
  },
  {
   "cell_type": "code",
   "execution_count": 11,
   "id": "e379727e-1997-4c01-afb8-3f9c2d1731a2",
   "metadata": {},
   "outputs": [
    {
     "name": "stdout",
     "output_type": "stream",
     "text": [
      "Accuracy: 0.8545081967213115\n"
     ]
    }
   ],
   "source": [
    "# Evaluate model performance\n",
    "evaluator = MulticlassClassificationEvaluator(labelCol=\"churn_indexed\", predictionCol=\"prediction\", metricName=\"accuracy\")\n",
    "accuracy = evaluator.evaluate(predictions)\n",
    "\n",
    "print(\"Accuracy:\", accuracy)"
   ]
  },
  {
   "cell_type": "code",
   "execution_count": 12,
   "id": "904d3e1c-444e-42e6-904e-b9b9d47c48eb",
   "metadata": {},
   "outputs": [],
   "source": [
    "# Save the RandomForest model\n",
    "rf_model.save(\"random_forest_model\")"
   ]
  },
  {
   "cell_type": "code",
   "execution_count": null,
   "id": "58f87a21-3d4f-4fb7-917b-fb17c9d775b6",
   "metadata": {},
   "outputs": [],
   "source": []
  }
 ],
 "metadata": {
  "kernelspec": {
   "display_name": "Python 3 (ipykernel)",
   "language": "python",
   "name": "python3"
  },
  "language_info": {
   "codemirror_mode": {
    "name": "ipython",
    "version": 3
   },
   "file_extension": ".py",
   "mimetype": "text/x-python",
   "name": "python",
   "nbconvert_exporter": "python",
   "pygments_lexer": "ipython3",
   "version": "3.11.7"
  }
 },
 "nbformat": 4,
 "nbformat_minor": 5
}
